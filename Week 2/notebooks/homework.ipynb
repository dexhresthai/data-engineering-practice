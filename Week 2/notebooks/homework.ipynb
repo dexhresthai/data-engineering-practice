{
 "cells": [
  {
   "cell_type": "markdown",
   "metadata": {},
   "source": [
    "# How many rows are there for the Yellow Taxi data for all CSV files in the year 2020?\n",
    "\n",
    "```sql\n",
    "SELECT COUNT(*)\n",
    "FROM `md-data-engineering-practice.de_zoomcamp.yellow_tripdata`\n",
    "WHERE (EXTRACT(YEAR FROM tpep_pickup_datetime) = 2020)\n",
    "OR (EXTRACT(YEAR FROM tpep_dropoff_datetime) = 2020);\n",
    "```\n"
   ]
  },
  {
   "cell_type": "markdown",
   "metadata": {},
   "source": [
    "# How many rows are there for the Green Taxi data for all CSV files in the year 2020?\n",
    "\n",
    "```sql\n",
    "SELECT COUNT(*)\n",
    "FROM `md-data-engineering-practice.de_zoomcamp.green_tripdata`\n",
    "WHERE (EXTRACT(YEAR FROM lpep_pickup_datetime) = 2020)\n",
    "OR (EXTRACT(YEAR FROM lpep_dropoff_datetime) = 2020);\n",
    "```\n"
   ]
  },
  {
   "cell_type": "markdown",
   "metadata": {},
   "source": [
    "# How many rows are there for the Yellow Taxi data for the March 2021 CSV file?\n",
    "\n",
    "```sql\n",
    "SELECT COUNT(*)\n",
    "FROM `md-data-engineering-practice.de_zoomcamp.yellow_tripdata`\n",
    "WHERE (EXTRACT(YEAR FROM tpep_pickup_datetime) = 2020\n",
    "AND EXTRACT(MONTH FROM tpep_pickup_datetime) = 3)\n",
    "OR\n",
    " (EXTRACT(YEAR FROM tpep_dropoff_datetime) = 2021\n",
    "AND EXTRACT(MONTH FROM tpep_dropoff_datetime) = 3);\n",
    "````"
   ]
  }
 ],
 "metadata": {
  "language_info": {
   "name": "python"
  }
 },
 "nbformat": 4,
 "nbformat_minor": 2
}
