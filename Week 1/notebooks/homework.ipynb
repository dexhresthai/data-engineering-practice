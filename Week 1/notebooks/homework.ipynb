{
 "cells": [
  {
   "cell_type": "markdown",
   "metadata": {},
   "source": [
    "# Module 1 Homework: Docker & SQL\n"
   ]
  },
  {
   "cell_type": "markdown",
   "metadata": {},
   "source": [
    "## Question 1. Understanding docker first run\n",
    "\n",
    "Run docker with the python:3.12.8 image in an interactive mode, use the entrypoint bash.\n",
    "\n",
    "What's the version of pip in the image?\n"
   ]
  },
  {
   "cell_type": "markdown",
   "metadata": {},
   "source": [
    "--select count(*) from green_taxi_trips where lpep_pickup_datetime>='2019-10-01' and lpep_dropoff_datetime<'2019-11-01' and trip_distance<=1\n",
    "\n",
    "--select count(*) from green_taxi_trips where lpep_pickup_datetime>='2019-10-01' and lpep_dropoff_datetime<'2019-11-01' and trip_distance>1 and trip_distance<=3\n",
    "\n",
    "-- select count(*) from green_taxi_trips where lpep_pickup_datetime>='2019-10-01' and lpep_dropoff_datetime<'2019-11-01' and trip_distance>3 and trip_distance<=7 \n",
    "\n",
    "-- select count(*) from green_taxi_trips where lpep_pickup_datetime>='2019-10-01' and lpep_dropoff_datetime<'2019-11-01' and trip_distance>7 and trip_distance<=10 \n",
    "\n",
    "-- select count(*) from green_taxi_trips where lpep_pickup_datetime>='2019-10-01' and lpep_dropoff_datetime<'2019-11-01' and trip_distance>10\n",
    "\n",
    "-- select * from green_taxi_trips where trip_distance in (select max(trip_distance) from green_taxi_trips);\n",
    "\n",
    "--SELECT \"zone\" FROM zones WHERE locationid IN ( SELECT  \"PULocationID\" FROM  green_taxi_trips WHERE  DATE(lpep_pickup_datetime) = '2019-10-18' GROUP BY  \"PULocationID\" HAVING  SUM(total_amount) > 13000)\n",
    "\n",
    "--select \"zone\" from zones where locationid in (select \"DOLocationID\" from green_taxi_trips where tip_amount in (select max(tip_amount) from green_taxi_trips where \"PULocationID\" in (select locationid from zones where zones.zone='East Harlem North')) and \"PULocationID\" in (select locationid from zones where zones.zone='East Harlem North'))\n"
   ]
  },
  {
   "cell_type": "markdown",
   "metadata": {},
   "source": [
    "terraform init : Downloading the provider plugins and setting up backend\n",
    "\n",
    "terraform apply -auto-approve : Generating proposed changes and auto-executing the plan\n",
    "\n",
    "terraform destroy : Remove all resources managed by terraform`"
   ]
  }
 ],
 "metadata": {
  "language_info": {
   "name": "python"
  }
 },
 "nbformat": 4,
 "nbformat_minor": 2
}
